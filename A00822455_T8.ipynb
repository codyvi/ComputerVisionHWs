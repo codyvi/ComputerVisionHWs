{
 "cells": [
  {
   "cell_type": "markdown",
   "id": "increasing-transcript",
   "metadata": {},
   "source": [
    "# Tarea 8 Parte 1"
   ]
  },
  {
   "cell_type": "code",
   "execution_count": 2,
   "id": "spiritual-ultimate",
   "metadata": {},
   "outputs": [],
   "source": [
    "import numpy as np\n",
    "import cv2\n",
    "import matplotlib.pylab as plt\n",
    "\n",
    "cap = cv2.VideoCapture(1)\n",
    "\n",
    "while(True):\n",
    "    # Capture frame-by-frame\n",
    "    ret, frame = cap.read()\n",
    "    \n",
    "    # Our operations on the frame come here\n",
    "    if cv2.waitKey(1) & 0xFF == ord('c'):\n",
    "        cv2.imwrite('Me.png', frame)\n",
    "        break\n",
    "\n",
    "    # Display the resulting frame\n",
    "    cv2.imshow('frame',frame)\n",
    "\n",
    "cap.release()\n",
    "cv2.destroyAllWindows()"
   ]
  },
  {
   "cell_type": "markdown",
   "id": "computational-absorption",
   "metadata": {},
   "source": [
    "## Modificaciones a la foto"
   ]
  },
  {
   "cell_type": "code",
   "execution_count": 3,
   "id": "electronic-affiliate",
   "metadata": {},
   "outputs": [
    {
     "data": {
      "text/plain": [
       "True"
      ]
     },
     "execution_count": 3,
     "metadata": {},
     "output_type": "execute_result"
    }
   ],
   "source": [
    "#Leer la foto\n",
    "img = cv2.imread('Me.png',1)\n",
    "meme = cv2.imread('meme.jfif', 1)\n",
    "#Size of my photo\n",
    "height, width, color = img.shape\n",
    "\n",
    "font = cv2.FONT_HERSHEY_SIMPLEX\n",
    "cv2.putText(img,'David Cantu',(400,25), font, 1,(255,255,255),2,cv2.LINE_AA)\n",
    "cv2.putText(img,'A00822455',(400,60), font, 1,(255,255,255),2,cv2.LINE_AA)\n",
    "meme = cv2.resize(meme, (width, height))\n",
    "img = cv2.hconcat([img, meme])\n",
    "cv2.imwrite('newimg.png',img)"
   ]
  },
  {
   "cell_type": "code",
   "execution_count": 7,
   "id": "boolean-liberia",
   "metadata": {},
   "outputs": [],
   "source": [
    "cv2.imshow('image',img)\n",
    "#Espera una  tecla para cerrar la imagen\n",
    "cv2.waitKey(0)\n",
    "cv2.destroyAllWindows()"
   ]
  },
  {
   "cell_type": "markdown",
   "id": "norman-boundary",
   "metadata": {},
   "source": [
    "# Tarea 8 Parte 2"
   ]
  },
  {
   "cell_type": "code",
   "execution_count": 1,
   "id": "vertical-thermal",
   "metadata": {},
   "outputs": [],
   "source": [
    "import cv2\n",
    "import numpy as np\n",
    "\n",
    "ix,iy = -1,-1\n",
    "cap = cv2.VideoCapture(1)\n",
    "hsvColor = np.uint8([[[1,144,113]]])\n",
    "\n",
    "def mouseFunct(event,x,y,flags,param):\n",
    "    global hsvColor\n",
    "    if event == cv2.EVENT_LBUTTONDBLCLK:\n",
    "        ix, iy = x,y\n",
    "        cv2.circle(frame,(x,y),50,(255,0,0),-1)\n",
    "        color = np.uint8([[frame[ix,iy]]])\n",
    "        hsvColor = cv2.cvtColor(color,cv2.COLOR_BGR2HSV)\n",
    "        hsvColor\n",
    "\n",
    "while(1):\n",
    "    _, frame = cap.read()\n",
    "    cv2.setMouseCallback('frame',mouseFunct)\n",
    "    hsv = cv2.cvtColor(frame,cv2.COLOR_BGR2HSV)\n",
    "    lower_bound = np.array([hsvColor[0][0][0]-50,hsvColor[0][0][1]-30,hsvColor[0][0][2]-30])\n",
    "    upper_bound = np.array([hsvColor[0][0][0]+50,hsvColor[0][0][1]+30,hsvColor[0][0][2]+30])\n",
    "    \n",
    "    mask = cv2.inRange(hsv, lower_bound, upper_bound)\n",
    "    \n",
    "    res = cv2.bitwise_and(frame,frame, mask= mask)\n",
    "\n",
    "    cv2.imshow('frame',frame)\n",
    "    #cv2.imshow('mask',mask)\n",
    "    cv2.imshow('res',res)\n",
    "    if cv2.waitKey(1) & 0xFF == ord('b'):\n",
    "        break\n",
    "\n",
    "cv2.destroyAllWindows()"
   ]
  },
  {
   "cell_type": "code",
   "execution_count": null,
   "id": "duplicate-spread",
   "metadata": {},
   "outputs": [],
   "source": []
  }
 ],
 "metadata": {
  "kernelspec": {
   "display_name": "Python 3",
   "language": "python",
   "name": "python3"
  },
  "language_info": {
   "codemirror_mode": {
    "name": "ipython",
    "version": 3
   },
   "file_extension": ".py",
   "mimetype": "text/x-python",
   "name": "python",
   "nbconvert_exporter": "python",
   "pygments_lexer": "ipython3",
   "version": "3.8.0"
  }
 },
 "nbformat": 4,
 "nbformat_minor": 5
}
