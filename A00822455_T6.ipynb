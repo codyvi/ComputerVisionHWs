{
 "cells": [
  {
   "cell_type": "markdown",
   "id": "loaded-center",
   "metadata": {},
   "source": [
    "# Tarea 6 David Alonso Cantú Martínez A00822455"
   ]
  },
  {
   "cell_type": "markdown",
   "id": "hydraulic-penguin",
   "metadata": {},
   "source": [
    "## 1. Hasta  el  momento,  las  variables  independientes  de  los  modelos han  sido  valores  numéricos. Investiguen el método de one hot enconding para que los modelos tomen como entrada valores categóricos. Describan este proceso y adjunten la referencia de su investigación.\n",
    "\n",
    "One Hot Encoding es un proceso en el que las variables categóricas son convertidas en una forma en la cual si se provee a algoritmos de ML estos puedan hacer un mejor trabajo prediciendo. El problema con las variables categóricas es que el algoritmo puede pensar que si tiene un numero mayor es mejor. En la página que encontré se da el ejemplo con una tabla donde vienen marcas de carros, su valor categórico y un precio, lo que hace el one hot encoding es este valor categórico que viene en la segunda entrada de la tabla, lo cambia a valores de 0 y 1, y en vez de solo tener estas 3 entradas se cambia la tabla a las marcas de carro arriba, y el precio. Es decir si tenía BMW como 1, Nissan como 2, Toyota como 3 y Subaru como 4, se cambian las entradas a BMW, NISSAN, TOYOTA, SUBARO y PRECIO, y en los casos donde las entradas eran BMW, en la columna de BMW se pone un 1, en los que no 0, y así para todos. \n",
    "\n",
    "Referencia: \n",
    "Vasudev (2017). What is One Hot Encoding? Why and When Do You Have to Use it?. Recuperado de: https://hackernoon.com/what-is-one-hot-encoding-why-and-when-do-you-have-to-use-it-e3c6186d008f"
   ]
  },
  {
   "cell_type": "markdown",
   "id": "sensitive-termination",
   "metadata": {},
   "source": [
    "## 2. El archivoTitanic.csv contiene información de los sobrevivientes del barco, la descripción de cada una de las variables es: Survived: Survived (1) or died (0); this is the target variablePclass: Passenger's class (1st, 2nd or 3rd class)Sex: Passenger's sexSibSp: Number of siblings/spouses aboardParch: Number of parents/children aboardFare: FareEmbarked: Port of embarkation\n",
    "\n",
    "### En  base  a  ese  archivo  generen  un  modelo  de regresión  logística  que  determine  si  un  paciente sobreviviría  el accidente  en  base  al  resto  de  las  variables  dependientes.  Hagan una  predicción  de  si  un pasajero sobreviviría en caso de ser Pclass:1, female, Sibsp: 0, Parch: 0, Fare 7.5 y Embarked: C."
   ]
  },
  {
   "cell_type": "code",
   "execution_count": 1,
   "id": "critical-chamber",
   "metadata": {},
   "outputs": [],
   "source": [
    "#Import Statements\n",
    "\n",
    "import pandas as pd\n",
    "import numpy as np\n",
    "from sklearn.linear_model import LogisticRegression\n",
    "from sklearn.model_selection import train_test_split\n",
    "from sklearn.model_selection import cross_val_score\n",
    "from sklearn.preprocessing import StandardScaler"
   ]
  },
  {
   "cell_type": "code",
   "execution_count": 63,
   "id": "quarterly-university",
   "metadata": {},
   "outputs": [
    {
     "data": {
      "text/html": [
       "<div>\n",
       "<style scoped>\n",
       "    .dataframe tbody tr th:only-of-type {\n",
       "        vertical-align: middle;\n",
       "    }\n",
       "\n",
       "    .dataframe tbody tr th {\n",
       "        vertical-align: top;\n",
       "    }\n",
       "\n",
       "    .dataframe thead th {\n",
       "        text-align: right;\n",
       "    }\n",
       "</style>\n",
       "<table border=\"1\" class=\"dataframe\">\n",
       "  <thead>\n",
       "    <tr style=\"text-align: right;\">\n",
       "      <th></th>\n",
       "      <th>Survived</th>\n",
       "      <th>Pclass</th>\n",
       "      <th>Sex</th>\n",
       "      <th>SibSp</th>\n",
       "      <th>Parch</th>\n",
       "      <th>Fare</th>\n",
       "      <th>Embarked</th>\n",
       "    </tr>\n",
       "  </thead>\n",
       "  <tbody>\n",
       "    <tr>\n",
       "      <th>0</th>\n",
       "      <td>0</td>\n",
       "      <td>3</td>\n",
       "      <td>male</td>\n",
       "      <td>1</td>\n",
       "      <td>0</td>\n",
       "      <td>7.2500</td>\n",
       "      <td>S</td>\n",
       "    </tr>\n",
       "    <tr>\n",
       "      <th>1</th>\n",
       "      <td>1</td>\n",
       "      <td>1</td>\n",
       "      <td>female</td>\n",
       "      <td>1</td>\n",
       "      <td>0</td>\n",
       "      <td>71.2833</td>\n",
       "      <td>C</td>\n",
       "    </tr>\n",
       "    <tr>\n",
       "      <th>2</th>\n",
       "      <td>1</td>\n",
       "      <td>3</td>\n",
       "      <td>female</td>\n",
       "      <td>0</td>\n",
       "      <td>0</td>\n",
       "      <td>7.9250</td>\n",
       "      <td>S</td>\n",
       "    </tr>\n",
       "    <tr>\n",
       "      <th>3</th>\n",
       "      <td>1</td>\n",
       "      <td>1</td>\n",
       "      <td>female</td>\n",
       "      <td>1</td>\n",
       "      <td>0</td>\n",
       "      <td>53.1000</td>\n",
       "      <td>S</td>\n",
       "    </tr>\n",
       "    <tr>\n",
       "      <th>4</th>\n",
       "      <td>0</td>\n",
       "      <td>3</td>\n",
       "      <td>male</td>\n",
       "      <td>0</td>\n",
       "      <td>0</td>\n",
       "      <td>8.0500</td>\n",
       "      <td>S</td>\n",
       "    </tr>\n",
       "  </tbody>\n",
       "</table>\n",
       "</div>"
      ],
      "text/plain": [
       "   Survived  Pclass     Sex  SibSp  Parch     Fare Embarked\n",
       "0         0       3    male      1      0   7.2500        S\n",
       "1         1       1  female      1      0  71.2833        C\n",
       "2         1       3  female      0      0   7.9250        S\n",
       "3         1       1  female      1      0  53.1000        S\n",
       "4         0       3    male      0      0   8.0500        S"
      ]
     },
     "execution_count": 63,
     "metadata": {},
     "output_type": "execute_result"
    }
   ],
   "source": [
    "#Reading the data\n",
    "titanicDF = pd.read_csv('Titanic.csv')\n",
    "titanicDF.head()"
   ]
  },
  {
   "cell_type": "code",
   "execution_count": 64,
   "id": "valued-flashing",
   "metadata": {},
   "outputs": [
    {
     "data": {
      "text/html": [
       "<div>\n",
       "<style scoped>\n",
       "    .dataframe tbody tr th:only-of-type {\n",
       "        vertical-align: middle;\n",
       "    }\n",
       "\n",
       "    .dataframe tbody tr th {\n",
       "        vertical-align: top;\n",
       "    }\n",
       "\n",
       "    .dataframe thead th {\n",
       "        text-align: right;\n",
       "    }\n",
       "</style>\n",
       "<table border=\"1\" class=\"dataframe\">\n",
       "  <thead>\n",
       "    <tr style=\"text-align: right;\">\n",
       "      <th></th>\n",
       "      <th>Survived</th>\n",
       "      <th>Pclass</th>\n",
       "      <th>SibSp</th>\n",
       "      <th>Parch</th>\n",
       "      <th>Fare</th>\n",
       "      <th>Sex_female</th>\n",
       "      <th>Sex_male</th>\n",
       "      <th>Embarked_C</th>\n",
       "      <th>Embarked_Q</th>\n",
       "      <th>Embarked_S</th>\n",
       "    </tr>\n",
       "  </thead>\n",
       "  <tbody>\n",
       "    <tr>\n",
       "      <th>0</th>\n",
       "      <td>0</td>\n",
       "      <td>3</td>\n",
       "      <td>1</td>\n",
       "      <td>0</td>\n",
       "      <td>7.2500</td>\n",
       "      <td>0</td>\n",
       "      <td>1</td>\n",
       "      <td>0</td>\n",
       "      <td>0</td>\n",
       "      <td>1</td>\n",
       "    </tr>\n",
       "    <tr>\n",
       "      <th>1</th>\n",
       "      <td>1</td>\n",
       "      <td>1</td>\n",
       "      <td>1</td>\n",
       "      <td>0</td>\n",
       "      <td>71.2833</td>\n",
       "      <td>1</td>\n",
       "      <td>0</td>\n",
       "      <td>1</td>\n",
       "      <td>0</td>\n",
       "      <td>0</td>\n",
       "    </tr>\n",
       "    <tr>\n",
       "      <th>2</th>\n",
       "      <td>1</td>\n",
       "      <td>3</td>\n",
       "      <td>0</td>\n",
       "      <td>0</td>\n",
       "      <td>7.9250</td>\n",
       "      <td>1</td>\n",
       "      <td>0</td>\n",
       "      <td>0</td>\n",
       "      <td>0</td>\n",
       "      <td>1</td>\n",
       "    </tr>\n",
       "    <tr>\n",
       "      <th>3</th>\n",
       "      <td>1</td>\n",
       "      <td>1</td>\n",
       "      <td>1</td>\n",
       "      <td>0</td>\n",
       "      <td>53.1000</td>\n",
       "      <td>1</td>\n",
       "      <td>0</td>\n",
       "      <td>0</td>\n",
       "      <td>0</td>\n",
       "      <td>1</td>\n",
       "    </tr>\n",
       "    <tr>\n",
       "      <th>4</th>\n",
       "      <td>0</td>\n",
       "      <td>3</td>\n",
       "      <td>0</td>\n",
       "      <td>0</td>\n",
       "      <td>8.0500</td>\n",
       "      <td>0</td>\n",
       "      <td>1</td>\n",
       "      <td>0</td>\n",
       "      <td>0</td>\n",
       "      <td>1</td>\n",
       "    </tr>\n",
       "  </tbody>\n",
       "</table>\n",
       "</div>"
      ],
      "text/plain": [
       "   Survived  Pclass  SibSp  Parch     Fare  Sex_female  Sex_male  Embarked_C  \\\n",
       "0         0       3      1      0   7.2500           0         1           0   \n",
       "1         1       1      1      0  71.2833           1         0           1   \n",
       "2         1       3      0      0   7.9250           1         0           0   \n",
       "3         1       1      1      0  53.1000           1         0           0   \n",
       "4         0       3      0      0   8.0500           0         1           0   \n",
       "\n",
       "   Embarked_Q  Embarked_S  \n",
       "0           0           1  \n",
       "1           0           0  \n",
       "2           0           1  \n",
       "3           0           1  \n",
       "4           0           1  "
      ]
     },
     "execution_count": 64,
     "metadata": {},
     "output_type": "execute_result"
    }
   ],
   "source": [
    "#One Hot Encoding\n",
    "titanicDF = pd.get_dummies(titanicDF)\n",
    "titanicDF.head()"
   ]
  },
  {
   "cell_type": "code",
   "execution_count": 65,
   "id": "environmental-finder",
   "metadata": {},
   "outputs": [],
   "source": [
    "# Test train split\n",
    "X_train, X_test, y_train, y_test = train_test_split(titanicDF.drop('Survived', axis=1), titanicDF['Survived'],test_size=0.2, random_state=0)"
   ]
  },
  {
   "cell_type": "code",
   "execution_count": 66,
   "id": "distinguished-license",
   "metadata": {
    "scrolled": true
   },
   "outputs": [
    {
     "data": {
      "text/plain": [
       "array([[ 0.81925059, -0.46445234,  1.95926403, ...,  2.12588331,\n",
       "        -0.31426968, -1.62827579],\n",
       "       [-0.38096838, -0.46445234, -0.47741019, ..., -0.4703927 ,\n",
       "        -0.31426968,  0.61414657],\n",
       "       [-0.38096838,  0.41270964,  0.74092692, ...,  2.12588331,\n",
       "        -0.31426968, -1.62827579],\n",
       "       ...,\n",
       "       [ 0.81925059, -0.46445234, -0.47741019, ..., -0.4703927 ,\n",
       "         3.18198052, -1.62827579],\n",
       "       [ 0.81925059,  0.41270964, -0.47741019, ..., -0.4703927 ,\n",
       "        -0.31426968,  0.61414657],\n",
       "       [-0.38096838,  0.41270964,  0.74092692, ..., -0.4703927 ,\n",
       "        -0.31426968,  0.61414657]])"
      ]
     },
     "execution_count": 66,
     "metadata": {},
     "output_type": "execute_result"
    }
   ],
   "source": [
    "# Train the model using training data\n",
    "sc = StandardScaler()\n",
    "X_train = sc.fit_transform(X_train)\n",
    "X_test = sc.fit_transform(X_test)\n",
    "X_train"
   ]
  },
  {
   "cell_type": "code",
   "execution_count": 67,
   "id": "emotional-consumer",
   "metadata": {},
   "outputs": [
    {
     "data": {
      "text/plain": [
       "LogisticRegression(random_state=0)"
      ]
     },
     "execution_count": 67,
     "metadata": {},
     "output_type": "execute_result"
    }
   ],
   "source": [
    "LogReg = LogisticRegression(random_state=0)\n",
    "LogReg.fit(X_train,y_train)"
   ]
  },
  {
   "cell_type": "code",
   "execution_count": 68,
   "id": "partial-accident",
   "metadata": {},
   "outputs": [
    {
     "data": {
      "text/plain": [
       "1"
      ]
     },
     "execution_count": 68,
     "metadata": {},
     "output_type": "execute_result"
    }
   ],
   "source": [
    "# Pclass  SibSp  Parch  Fare  Sex_female  Sex_male Embarked_C  Embarked_Q  Embarked_S\n",
    "#    1     0     0      7.5      1          0        1            0              0\n",
    "dataToPredict = np.array([[1,0,0,7.5,1,0,1,0,0]])\n",
    "willSurvive = LogReg.predict(dataToPredict)[0]\n",
    "willSurvive"
   ]
  },
  {
   "cell_type": "code",
   "execution_count": 69,
   "id": "french-process",
   "metadata": {},
   "outputs": [
    {
     "data": {
      "text/plain": [
       "0.7988826815642458"
      ]
     },
     "execution_count": 69,
     "metadata": {},
     "output_type": "execute_result"
    }
   ],
   "source": [
    "#Obtenemos el score de la regresion logistica\n",
    "LogReg.score(X_test, y_test)"
   ]
  },
  {
   "cell_type": "markdown",
   "id": "brave-julian",
   "metadata": {},
   "source": [
    "## 3. The dataset in q1_data.csv is comprised of 1000 instances, each with 2 features (F1 and F2) and a binary label (0 or 1). The two features are related in a particularly interesting way. "
   ]
  },
  {
   "cell_type": "markdown",
   "id": "reverse-short",
   "metadata": {},
   "source": [
    "### a) Find out what this relationship looks like by plotting a 2-D graph of the two features. You can use Python’s matplotlib for this task or any other plotting tool of your choice. Include the plot in your answer. "
   ]
  },
  {
   "cell_type": "code",
   "execution_count": 90,
   "id": "colonial-nylon",
   "metadata": {},
   "outputs": [
    {
     "data": {
      "text/html": [
       "<div>\n",
       "<style scoped>\n",
       "    .dataframe tbody tr th:only-of-type {\n",
       "        vertical-align: middle;\n",
       "    }\n",
       "\n",
       "    .dataframe tbody tr th {\n",
       "        vertical-align: top;\n",
       "    }\n",
       "\n",
       "    .dataframe thead th {\n",
       "        text-align: right;\n",
       "    }\n",
       "</style>\n",
       "<table border=\"1\" class=\"dataframe\">\n",
       "  <thead>\n",
       "    <tr style=\"text-align: right;\">\n",
       "      <th></th>\n",
       "      <th>0</th>\n",
       "      <th>1</th>\n",
       "      <th>2</th>\n",
       "    </tr>\n",
       "  </thead>\n",
       "  <tbody>\n",
       "    <tr>\n",
       "      <th>0</th>\n",
       "      <td>0.893841</td>\n",
       "      <td>0.448383</td>\n",
       "      <td>0.0</td>\n",
       "    </tr>\n",
       "    <tr>\n",
       "      <th>1</th>\n",
       "      <td>-0.763892</td>\n",
       "      <td>0.237633</td>\n",
       "      <td>1.0</td>\n",
       "    </tr>\n",
       "    <tr>\n",
       "      <th>2</th>\n",
       "      <td>-0.285130</td>\n",
       "      <td>-0.747463</td>\n",
       "      <td>1.0</td>\n",
       "    </tr>\n",
       "    <tr>\n",
       "      <th>3</th>\n",
       "      <td>-0.844328</td>\n",
       "      <td>-0.535827</td>\n",
       "      <td>0.0</td>\n",
       "    </tr>\n",
       "    <tr>\n",
       "      <th>4</th>\n",
       "      <td>0.462058</td>\n",
       "      <td>-0.653071</td>\n",
       "      <td>1.0</td>\n",
       "    </tr>\n",
       "  </tbody>\n",
       "</table>\n",
       "</div>"
      ],
      "text/plain": [
       "          0         1    2\n",
       "0  0.893841  0.448383  0.0\n",
       "1 -0.763892  0.237633  1.0\n",
       "2 -0.285130 -0.747463  1.0\n",
       "3 -0.844328 -0.535827  0.0\n",
       "4  0.462058 -0.653071  1.0"
      ]
     },
     "execution_count": 90,
     "metadata": {},
     "output_type": "execute_result"
    }
   ],
   "source": [
    "Q1 = pd.read_csv('q1_data.csv',header=None)\n",
    "Q1.head()"
   ]
  },
  {
   "cell_type": "code",
   "execution_count": 91,
   "id": "simplified-hierarchy",
   "metadata": {},
   "outputs": [
    {
     "data": {
      "text/plain": [
       "<matplotlib.collections.PathCollection at 0x10a2dbf0>"
      ]
     },
     "execution_count": 91,
     "metadata": {},
     "output_type": "execute_result"
    },
    {
     "data": {
      "image/png": "[encoded data removed]",
      "text/plain": [
       "<Figure size 432x288 with 1 Axes>"
      ]
     },
     "metadata": {
      "needs_background": "light"
     },
     "output_type": "display_data"
    }
   ],
   "source": [
    "import matplotlib.pyplot as plt\n",
    "plt.scatter(Q1[0],Q1[1], marker=\"+\")"
   ]
  },
  {
   "cell_type": "markdown",
   "id": "utility-necessity",
   "metadata": {},
   "source": [
    "### b) Using scikit-learn, fit a logistic regression model to the dataset and evaluate its performance (accuracy)  with  10-fold  cross-validation.  You  should  report performance  using  the  accuracy measure, averaged across and all cross-validation runs. Include your source code. "
   ]
  },
  {
   "cell_type": "code",
   "execution_count": 92,
   "id": "incomplete-repeat",
   "metadata": {},
   "outputs": [],
   "source": [
    "Q1 = pd.get_dummies(Q1)\n",
    "Q2 = np.ravel(Q1.drop([0,1], axis=1))\n",
    "X_train, X_test, y_train, y_test = train_test_split(Q1.drop(2,axis=1),Q2,test_size=0.2, random_state=0)"
   ]
  },
  {
   "cell_type": "code",
   "execution_count": 93,
   "id": "assured-oracle",
   "metadata": {},
   "outputs": [
    {
     "data": {
      "text/plain": [
       "LogisticRegression(random_state=0)"
      ]
     },
     "execution_count": 93,
     "metadata": {},
     "output_type": "execute_result"
    }
   ],
   "source": [
    "LogReg = LogisticRegression(random_state=0)\n",
    "LogReg.fit(X_train,y_train)"
   ]
  },
  {
   "cell_type": "code",
   "execution_count": 94,
   "id": "fluid-delaware",
   "metadata": {},
   "outputs": [
    {
     "name": "stdout",
     "output_type": "stream",
     "text": [
      "Puntuación de la prueba: 0.435\n"
     ]
    }
   ],
   "source": [
    "Score = LogReg.score(X_test, y_test)\n",
    "print('Puntuación de la prueba:', Score)"
   ]
  },
  {
   "cell_type": "code",
   "execution_count": 95,
   "id": "wound-allen",
   "metadata": {},
   "outputs": [
    {
     "name": "stdout",
     "output_type": "stream",
     "text": [
      "Puntuación de Cross-Validation: [0.5125 0.4625 0.45   0.5    0.45   0.5    0.45   0.525  0.45   0.4625]\n",
      "Media de las puntuaciones: 0.47625\n"
     ]
    }
   ],
   "source": [
    "Scores = cross_val_score(LogReg, X_train, y_train, cv=10)\n",
    "print('Puntuación de Cross-Validation:', Scores)\n",
    "print('Media de las puntuaciones:', sum(Scores)/len(Scores))"
   ]
  },
  {
   "cell_type": "markdown",
   "id": "otherwise-strap",
   "metadata": {},
   "source": [
    "### c)  Can  you  think  of  a  way  to  improve  the  performance  of  the  model  while  still  employing  the logistic  regression  algorithm?  If  so,  describe  how,  include  your  code  and  present  performance results. (Hint: think about creating new features based on F1 and F2)."
   ]
  },
  {
   "cell_type": "code",
   "execution_count": 96,
   "id": "sound-content",
   "metadata": {},
   "outputs": [
    {
     "data": {
      "image/png": "[encoded data removed]",
      "text/plain": [
       "<Figure size 432x288 with 1 Axes>"
      ]
     },
     "metadata": {
      "needs_background": "light"
     },
     "output_type": "display_data"
    }
   ],
   "source": [
    "#Se pueden normalizar los datos, en este caso sabemos que los valores son repetidos entonces podemos sacar el cuadrado.\n",
    "\n",
    "Q1 **= 2\n",
    "plt.scatter(Q1[0],Q1[1],marker=\"+\")\n",
    "X_train, X_test, y_train, y_test = train_test_split(Q1.drop(2,axis=1),Q2,test_size=0.2, random_state=0)"
   ]
  },
  {
   "cell_type": "code",
   "execution_count": 97,
   "id": "biological-opera",
   "metadata": {},
   "outputs": [
    {
     "name": "stdout",
     "output_type": "stream",
     "text": [
      "Puntuación de la prueba 1.0\n",
      "Puntuación de Cross-Validation: [1. 1. 1. 1. 1. 1. 1. 1. 1. 1.]\n",
      "Media de las puntuaciones: 1.0\n"
     ]
    }
   ],
   "source": [
    "LogReg = LogisticRegression(random_state=0)\n",
    "LogReg.fit(X_train,y_train)\n",
    "Score = LogReg.score(X_test, y_test)\n",
    "print('Puntuación de la prueba', Score)\n",
    "Scores = cross_val_score(LogReg, X_train, y_train, cv=10)\n",
    "print('Puntuación de Cross-Validation:', Scores)\n",
    "print('Media de las puntuaciones:', sum(Scores)/len(Scores))"
   ]
  },
  {
   "cell_type": "code",
   "execution_count": null,
   "id": "numerous-legislation",
   "metadata": {},
   "outputs": [],
   "source": []
  }
 ],
 "metadata": {
  "kernelspec": {
   "display_name": "Python 3",
   "language": "python",
   "name": "python3"
  },
  "language_info": {
   "codemirror_mode": {
    "name": "ipython",
    "version": 3
   },
   "file_extension": ".py",
   "mimetype": "text/x-python",
   "name": "python",
   "nbconvert_exporter": "python",
   "pygments_lexer": "ipython3",
   "version": "3.8.0"
  }
 },
 "nbformat": 4,
 "nbformat_minor": 5
}
