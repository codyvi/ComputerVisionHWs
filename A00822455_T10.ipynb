{
 "cells": [
  {
   "cell_type": "markdown",
   "id": "bigger-motel",
   "metadata": {},
   "source": [
    "# Tarea 10 Parte 2"
   ]
  },
  {
   "cell_type": "markdown",
   "id": "proper-inflation",
   "metadata": {},
   "source": [
    "## 3) Programen en Python un código que seleccione una imagen en su directoriollamada‘image_A.jpg’y haga data augmentation, las nuevas imágenes deben ser una rotación de 180° grados con respecto a la original y una nueva imagen con un efecto espejo, guarden las imágenes como ‘rotate.jpg’ y ‘mirror.jpg’.\n"
   ]
  },
  {
   "cell_type": "code",
   "execution_count": 2,
   "id": "closed-swiss",
   "metadata": {},
   "outputs": [],
   "source": [
    "import numpy as np\n",
    "import cv2\n",
    "\n",
    "\n",
    "img1 = cv2.imread('image_A.jpg',1)\n",
    "rotated = cv2.rotate(img1,cv2.ROTATE_180)\n",
    "mirrored = cv2.flip(img1,1)\n",
    "cv2.imshow('original', img1)\n",
    "cv2.imshow('rotated',rotated)\n",
    "cv2.imshow('mirrored',mirrored)\n",
    "cv2.imwrite(\"rotate.jpg\",rotated)\n",
    "cv2.imwrite(\"mirror.jpg\",mirrored)\n",
    "cv2.waitKey(0)\n",
    "cv2.destroyAllWindows()"
   ]
  },
  {
   "cell_type": "markdown",
   "id": "civil-setting",
   "metadata": {},
   "source": [
    "## 4) Programen  en  Python  un  código  que  seleccione  una  imagen  en  su  directorio llamada ‘image_B.jpg’ y la convierta en escala de grises y haga que sus dimensiones de anchura (width)  sean  de  300  y  altura  (height)  de 200.Guarden  la  imagen  generada  como ‘resize.jpg’."
   ]
  },
  {
   "cell_type": "code",
   "execution_count": 11,
   "id": "documentary-bottom",
   "metadata": {},
   "outputs": [
    {
     "data": {
      "text/plain": [
       "True"
      ]
     },
     "execution_count": 11,
     "metadata": {},
     "output_type": "execute_result"
    }
   ],
   "source": [
    "import numpy as np\n",
    "import cv2\n",
    "\n",
    "\n",
    "img2 = cv2.imread('image_B.jpg',1)\n",
    "resized = cv2.resize(img2, ( 300,200), interpolation=cv2.INTER_CUBIC)\n",
    "gray = cv2.cvtColor(resized, cv2.COLOR_BGR2GRAY)\n",
    "cv2.imshow('original', img2)\n",
    "cv2.imshow('recolored', gray)\n",
    "cv2.waitKey(0)\n",
    "cv2.destroyAllWindows()\n",
    "cv2.imwrite(\"resize.jpg\",gray)"
   ]
  },
  {
   "cell_type": "markdown",
   "id": "charged-paraguay",
   "metadata": {},
   "source": [
    "## 5)Efectúen el siguiente tutorial para extraer los momentos de hu de una imagen: https://www.learnopencv.com/shape-matching-using-hu-moments-c-python/"
   ]
  },
  {
   "cell_type": "code",
   "execution_count": 12,
   "id": "paperback-fight",
   "metadata": {},
   "outputs": [
    {
     "name": "stdout",
     "output_type": "stream",
     "text": [
      "{'m00': 5821395.0, 'm10': 860603070.0, 'm01': 623445420.0, 'm20': 145870442760.0, 'm11': 87600100020.0, 'm02': 87840465570.0, 'm30': 27077359182420.0, 'm21': 14491560206340.0, 'm12': 11998481061030.0, 'm03': 13624478403870.0, 'mu20': 18643610687.373962, 'mu11': -4566647371.207687, 'mu02': 21072243911.965042, 'mu30': 335883297.890625, 'mu21': 219703038503.65967, 'mu12': -9235914557.873535, 'mu03': -296329901073.94727, 'nu20': 0.0005501433762787951, 'nu11': -0.000134754519668891, 'nu02': 0.0006218084900984181, 'nu30': 4.1079082714330785e-09, 'nu21': 2.687004488749705e-06, 'nu12': -1.1295676219926996e-07, 'nu03': -3.6241636882194924e-06}\n",
      "[[1.17195187e-03]\n",
      " [7.77710108e-08]\n",
      " [1.36660999e-10]\n",
      " [8.90115438e-13]\n",
      " [9.32647486e-24]\n",
      " [7.10750111e-18]\n",
      " [3.06531037e-24]]\n",
      "0.0 4.221651246361091e-07 1.6429734988009467e-06\n"
     ]
    }
   ],
   "source": [
    "import math\n",
    "im = cv2.imread(\"resize.jpg\",cv2.IMREAD_GRAYSCALE)\n",
    "# Threshold image\n",
    "_,im = cv2.threshold(im, 128, 255, cv2.THRESH_BINARY)\n",
    "\n",
    "# Calculate Moments\n",
    "moments = cv2.moments(im)\n",
    "print(moments)\n",
    "# Calculate Hu Moments\n",
    "huMoments = cv2.HuMoments(moments)\n",
    "\n",
    "print(huMoments)\n",
    "# Log scale hu moments\n",
    "for i in range(0,7):\n",
    "  huMoments[i] = -1 * math.copysign(1.0, huMoments[i]) * math.log10(abs(huMoments[i]))\n",
    " \n",
    "im1 = cv2.imread(\"image_A.jpg\",cv2.IMREAD_GRAYSCALE)\n",
    "im2 = cv2.imread(\"mirror.jpg\",cv2.IMREAD_GRAYSCALE)\n",
    "im3 = cv2.imread(\"rotate.jpg\",cv2.IMREAD_GRAYSCALE)\n",
    "d1 = cv2.matchShapes(im1,im1,cv2.CONTOURS_MATCH_I1,0)\n",
    "d2 = cv2.matchShapes(im1,im2,cv2.CONTOURS_MATCH_I2,0)\n",
    "d3 = cv2.matchShapes(im1,im3,cv2.CONTOURS_MATCH_I3,0)\n",
    "print(d1,d2,d3)"
   ]
  },
  {
   "cell_type": "code",
   "execution_count": null,
   "id": "going-carolina",
   "metadata": {},
   "outputs": [],
   "source": []
  }
 ],
 "metadata": {
  "kernelspec": {
   "display_name": "Python 3",
   "language": "python",
   "name": "python3"
  },
  "language_info": {
   "codemirror_mode": {
    "name": "ipython",
    "version": 3
   },
   "file_extension": ".py",
   "mimetype": "text/x-python",
   "name": "python",
   "nbconvert_exporter": "python",
   "pygments_lexer": "ipython3",
   "version": "3.7.9"
  }
 },
 "nbformat": 4,
 "nbformat_minor": 5
}
