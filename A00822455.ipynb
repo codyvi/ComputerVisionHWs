{
 "cells": [
  {
   "cell_type": "code",
   "execution_count": 1,
   "id": "loving-proceeding",
   "metadata": {},
   "outputs": [],
   "source": [
    "smash = ['Mario', 'DK', 'Link', 'Samus','Yoshi','Kirby', 'Fox', 'Pikachu']"
   ]
  },
  {
   "cell_type": "code",
   "execution_count": 2,
   "id": "appointed-nickel",
   "metadata": {},
   "outputs": [
    {
     "data": {
      "text/plain": [
       "['Mario', 'DK', 'Link', 'Samus', 'Yoshi', 'Kirby', 'Fox', 'Pikachu']"
      ]
     },
     "execution_count": 2,
     "metadata": {},
     "output_type": "execute_result"
    }
   ],
   "source": [
    "smash"
   ]
  },
  {
   "cell_type": "code",
   "execution_count": 3,
   "id": "aboriginal-siemens",
   "metadata": {},
   "outputs": [],
   "source": [
    "smash += ['Luigi','Ness', 'C. Falcon', 'Jigglypuff']"
   ]
  },
  {
   "cell_type": "code",
   "execution_count": 4,
   "id": "seeing-wholesale",
   "metadata": {},
   "outputs": [
    {
     "data": {
      "text/plain": [
       "['Mario',\n",
       " 'DK',\n",
       " 'Link',\n",
       " 'Samus',\n",
       " 'Yoshi',\n",
       " 'Kirby',\n",
       " 'Fox',\n",
       " 'Pikachu',\n",
       " 'Luigi',\n",
       " 'Ness',\n",
       " 'C. Falcon',\n",
       " 'Jigglypuff']"
      ]
     },
     "execution_count": 4,
     "metadata": {},
     "output_type": "execute_result"
    }
   ],
   "source": [
    "smash"
   ]
  },
  {
   "cell_type": "code",
   "execution_count": 5,
   "id": "actual-prophet",
   "metadata": {},
   "outputs": [],
   "source": [
    "smash += [['Metal Mario', 'Polygon Team', 'Master Hand']]"
   ]
  },
  {
   "cell_type": "code",
   "execution_count": 6,
   "id": "geological-camcorder",
   "metadata": {},
   "outputs": [
    {
     "data": {
      "text/plain": [
       "['Mario',\n",
       " 'DK',\n",
       " 'Link',\n",
       " 'Samus',\n",
       " 'Yoshi',\n",
       " 'Kirby',\n",
       " 'Fox',\n",
       " 'Pikachu',\n",
       " 'Luigi',\n",
       " 'Ness',\n",
       " 'C. Falcon',\n",
       " 'Jigglypuff',\n",
       " ['Metal Mario', 'Polygon Team', 'Master Hand']]"
      ]
     },
     "execution_count": 6,
     "metadata": {},
     "output_type": "execute_result"
    }
   ],
   "source": [
    "smash"
   ]
  },
  {
   "cell_type": "code",
   "execution_count": 10,
   "id": "greatest-minutes",
   "metadata": {},
   "outputs": [],
   "source": [
    "smash = ['Mario', 'DK', 'Link', 'Samus','Yoshi','Kirby', 'Fox', 'Pikachu']"
   ]
  },
  {
   "cell_type": "code",
   "execution_count": 11,
   "id": "lyric-testimony",
   "metadata": {},
   "outputs": [],
   "source": [
    "smash += ['Luigi','Ness', 'C. Falcon', 'Jigglypuff']"
   ]
  },
  {
   "cell_type": "code",
   "execution_count": 12,
   "id": "ecological-exhibit",
   "metadata": {},
   "outputs": [],
   "source": [
    "smash += [['Metal Mario', 'Polygon Team', 'Master Hand']]"
   ]
  },
  {
   "cell_type": "code",
   "execution_count": 13,
   "id": "greenhouse-teacher",
   "metadata": {},
   "outputs": [
    {
     "data": {
      "text/plain": [
       "['Mario',\n",
       " 'DK',\n",
       " 'Link',\n",
       " 'Samus',\n",
       " 'Yoshi',\n",
       " 'Kirby',\n",
       " 'Fox',\n",
       " 'Pikachu',\n",
       " 'Luigi',\n",
       " 'Ness',\n",
       " 'C. Falcon',\n",
       " 'Jigglypuff',\n",
       " ['Metal Mario', 'Polygon Team', 'Master Hand']]"
      ]
     },
     "execution_count": 13,
     "metadata": {},
     "output_type": "execute_result"
    }
   ],
   "source": [
    "smash"
   ]
  },
  {
   "cell_type": "code",
   "execution_count": 14,
   "id": "single-leeds",
   "metadata": {},
   "outputs": [],
   "source": [
    "del smash[:8]"
   ]
  },
  {
   "cell_type": "code",
   "execution_count": 15,
   "id": "spanish-immigration",
   "metadata": {},
   "outputs": [
    {
     "data": {
      "text/plain": [
       "['Luigi',\n",
       " 'Ness',\n",
       " 'C. Falcon',\n",
       " 'Jigglypuff',\n",
       " ['Metal Mario', 'Polygon Team', 'Master Hand']]"
      ]
     },
     "execution_count": 15,
     "metadata": {},
     "output_type": "execute_result"
    }
   ],
   "source": [
    "smash"
   ]
  },
  {
   "cell_type": "code",
   "execution_count": 16,
   "id": "clear-nirvana",
   "metadata": {},
   "outputs": [],
   "source": [
    "smash.insert(0,'Original roster')"
   ]
  },
  {
   "cell_type": "code",
   "execution_count": 17,
   "id": "working-species",
   "metadata": {},
   "outputs": [
    {
     "data": {
      "text/plain": [
       "['Original roster',\n",
       " 'Luigi',\n",
       " 'Ness',\n",
       " 'C. Falcon',\n",
       " 'Jigglypuff',\n",
       " ['Metal Mario', 'Polygon Team', 'Master Hand']]"
      ]
     },
     "execution_count": 17,
     "metadata": {},
     "output_type": "execute_result"
    }
   ],
   "source": [
    "smash"
   ]
  },
  {
   "cell_type": "code",
   "execution_count": 18,
   "id": "suited-arbor",
   "metadata": {},
   "outputs": [],
   "source": [
    "def null_matrix(M,N):\n",
    "    return [[[0] * N] * M]"
   ]
  },
  {
   "cell_type": "code",
   "execution_count": 19,
   "id": "subtle-turning",
   "metadata": {},
   "outputs": [
    {
     "data": {
      "text/plain": [
       "[[[0, 0, 0, 0], [0, 0, 0, 0], [0, 0, 0, 0]]]"
      ]
     },
     "execution_count": 19,
     "metadata": {},
     "output_type": "execute_result"
    }
   ],
   "source": [
    "null_matrix(3,4)"
   ]
  },
  {
   "cell_type": "code",
   "execution_count": 20,
   "id": "strategic-correlation",
   "metadata": {},
   "outputs": [
    {
     "data": {
      "text/plain": [
       "[[[['?', '?'], ['?', '?'], ['?', '?']],\n",
       "  [['?', '?'], ['?', '?'], ['?', '?']],\n",
       "  [['?', '?'], ['?', '?'], ['?', '?']],\n",
       "  [['?', '?'], ['?', '?'], ['?', '?']]]]"
      ]
     },
     "execution_count": 20,
     "metadata": {},
     "output_type": "execute_result"
    }
   ],
   "source": [
    "[[['?'] * 2] * 3] * 4"
   ]
  },
  {
   "cell_type": "code",
   "execution_count": 21,
   "id": "sophisticated-museum",
   "metadata": {},
   "outputs": [
    {
     "data": {
      "text/plain": [
       "[[['?', '?'], ['?', '?'], ['?', '?']],\n",
       " [['?', '?'], ['?', '?'], ['?', '?']],\n",
       " [['?', '?'], ['?', '?'], ['?', '?']],\n",
       " [['?', '?'], ['?', '?'], ['?', '?']]]"
      ]
     },
     "execution_count": 21,
     "metadata": {},
     "output_type": "execute_result"
    }
   ],
   "source": [
    "[[['?'] * 2] * 3] * 4"
   ]
  },
  {
   "cell_type": "code",
   "execution_count": 2,
   "id": "natural-america",
   "metadata": {},
   "outputs": [],
   "source": [
    "mensualidad = {'Disney+': 7, 'Netflix': 8.99, 'Prime': 12.99}"
   ]
  },
  {
   "cell_type": "code",
   "execution_count": 3,
   "id": "great-notion",
   "metadata": {},
   "outputs": [
    {
     "data": {
      "text/plain": [
       "{'Disney+': 7, 'Netflix': 8.99, 'Prime': 12.99}"
      ]
     },
     "execution_count": 3,
     "metadata": {},
     "output_type": "execute_result"
    }
   ],
   "source": [
    "mensualidad"
   ]
  },
  {
   "cell_type": "code",
   "execution_count": 4,
   "id": "ordinary-nation",
   "metadata": {},
   "outputs": [
    {
     "data": {
      "text/plain": [
       "{'Netflix': 139, 'Prime': 99, 'Blim': 109}"
      ]
     },
     "execution_count": 4,
     "metadata": {},
     "output_type": "execute_result"
    }
   ],
   "source": [
    "mensualidad.pop('Disney+')\n",
    "mensualidad['Netflix'] = 139\n",
    "mensualidad['Prime'] = 99\n",
    "mensualidad['Blim'] = 109\n",
    "mensualidad"
   ]
  },
  {
   "cell_type": "code",
   "execution_count": 5,
   "id": "infinite-warrior",
   "metadata": {},
   "outputs": [
    {
     "data": {
      "text/plain": [
       "{'Netflix': 139, 'Prime': 99, 'Blim': 109, 'Tec': 20400}"
      ]
     },
     "execution_count": 5,
     "metadata": {},
     "output_type": "execute_result"
    }
   ],
   "source": [
    "mensualidad['Tec'] = 20400\n",
    "mensualidad"
   ]
  },
  {
   "cell_type": "code",
   "execution_count": 2,
   "id": "amber-nancy",
   "metadata": {},
   "outputs": [
    {
     "data": {
      "text/plain": [
       "array([[ 1,  2,  3,  4],\n",
       "       [ 5,  6,  7,  8],\n",
       "       [ 9, 10, 11, 12],\n",
       "       [13, 14, 15, 16]])"
      ]
     },
     "execution_count": 2,
     "metadata": {},
     "output_type": "execute_result"
    }
   ],
   "source": [
    "import numpy as np\n",
    "\n",
    "raw = np.array([[1,2,3,4],[5,6,7,8],[9,10,11,12],[13,14,15,16]])\n",
    "raw"
   ]
  },
  {
   "cell_type": "code",
   "execution_count": 11,
   "id": "polished-overview",
   "metadata": {},
   "outputs": [
    {
     "data": {
      "text/plain": [
       "array([[2, 3],\n",
       "       [6, 7]])"
      ]
     },
     "execution_count": 11,
     "metadata": {},
     "output_type": "execute_result"
    }
   ],
   "source": [
    "raw[:2,1:3]"
   ]
  },
  {
   "cell_type": "code",
   "execution_count": 12,
   "id": "requested-integrity",
   "metadata": {},
   "outputs": [
    {
     "data": {
      "text/plain": [
       "array([[ 7,  8],\n",
       "       [11, 12],\n",
       "       [15, 16]])"
      ]
     },
     "execution_count": 12,
     "metadata": {},
     "output_type": "execute_result"
    }
   ],
   "source": [
    "raw[1:4, 2:4]"
   ]
  },
  {
   "cell_type": "code",
   "execution_count": 3,
   "id": "concerned-jacob",
   "metadata": {},
   "outputs": [
    {
     "data": {
      "text/plain": [
       "array([[ 1,  2,  3],\n",
       "       [ 5,  6,  7],\n",
       "       [ 9, 10, 11],\n",
       "       [13, 14, 15]])"
      ]
     },
     "execution_count": 3,
     "metadata": {},
     "output_type": "execute_result"
    }
   ],
   "source": [
    "features = raw[:,:3]\n",
    "labels = raw[:,3:].flatten()\n",
    "features"
   ]
  },
  {
   "cell_type": "code",
   "execution_count": 4,
   "id": "advance-speed",
   "metadata": {},
   "outputs": [
    {
     "data": {
      "text/plain": [
       "array([ 4,  8, 12, 16])"
      ]
     },
     "execution_count": 4,
     "metadata": {},
     "output_type": "execute_result"
    }
   ],
   "source": [
    "labels"
   ]
  },
  {
   "cell_type": "code",
   "execution_count": 5,
   "id": "located-there",
   "metadata": {},
   "outputs": [],
   "source": [
    "data = list(zip(features,labels))"
   ]
  },
  {
   "cell_type": "code",
   "execution_count": 6,
   "id": "varied-warner",
   "metadata": {},
   "outputs": [
    {
     "data": {
      "text/plain": [
       "[(array([1, 2, 3]), 4),\n",
       " (array([5, 6, 7]), 8),\n",
       " (array([ 9, 10, 11]), 12),\n",
       " (array([13, 14, 15]), 16)]"
      ]
     },
     "execution_count": 6,
     "metadata": {},
     "output_type": "execute_result"
    }
   ],
   "source": [
    "data"
   ]
  },
  {
   "cell_type": "code",
   "execution_count": 7,
   "id": "charged-hughes",
   "metadata": {},
   "outputs": [
    {
     "data": {
      "text/plain": [
       "[(array([1, 2, 3]), 4)]"
      ]
     },
     "execution_count": 7,
     "metadata": {},
     "output_type": "execute_result"
    }
   ],
   "source": [
    "test = data[:1]\n",
    "train = data[1:4]\n",
    "test"
   ]
  },
  {
   "cell_type": "code",
   "execution_count": 8,
   "id": "furnished-entry",
   "metadata": {},
   "outputs": [
    {
     "data": {
      "text/plain": [
       "[(array([5, 6, 7]), 8), (array([ 9, 10, 11]), 12), (array([13, 14, 15]), 16)]"
      ]
     },
     "execution_count": 8,
     "metadata": {},
     "output_type": "execute_result"
    }
   ],
   "source": [
    "train"
   ]
  },
  {
   "cell_type": "code",
   "execution_count": 9,
   "id": "civilian-position",
   "metadata": {},
   "outputs": [],
   "source": [
    "#16.) prob es .35/.7=0.5"
   ]
  },
  {
   "cell_type": "code",
   "execution_count": 10,
   "id": "outstanding-norway",
   "metadata": {},
   "outputs": [],
   "source": [
    "#17.) prob es 0.1*0.99 = 0.099"
   ]
  },
  {
   "cell_type": "code",
   "execution_count": 11,
   "id": "purple-corps",
   "metadata": {},
   "outputs": [],
   "source": [
    "#18.) Respuesta -2x^4 sin(x^2) + 3x^2 cos(x^2)"
   ]
  },
  {
   "cell_type": "code",
   "execution_count": 12,
   "id": "painful-defeat",
   "metadata": {},
   "outputs": [],
   "source": [
    "#19.) Respuesta 2x sin(x) + x^2 cos(x) + 4x^3"
   ]
  },
  {
   "cell_type": "code",
   "execution_count": null,
   "id": "exciting-placement",
   "metadata": {},
   "outputs": [],
   "source": [
    "#20.) Respecto a x 3x^2 + 2xz + z^2 Respecto a z x^2 + 2zx + 3z^2"
   ]
  }
 ],
 "metadata": {
  "kernelspec": {
   "display_name": "Python 3",
   "language": "python",
   "name": "python3"
  },
  "language_info": {
   "codemirror_mode": {
    "name": "ipython",
    "version": 3
   },
   "file_extension": ".py",
   "mimetype": "text/x-python",
   "name": "python",
   "nbconvert_exporter": "python",
   "pygments_lexer": "ipython3",
   "version": "3.8.0"
  }
 },
 "nbformat": 4,
 "nbformat_minor": 5
}
